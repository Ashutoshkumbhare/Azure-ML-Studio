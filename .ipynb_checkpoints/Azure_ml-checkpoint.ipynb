{
 "cells": [
  {
   "cell_type": "code",
   "execution_count": 1,
   "id": "b6a82952",
   "metadata": {},
   "outputs": [],
   "source": [
    "#!pip install azureml-sdk"
   ]
  },
  {
   "cell_type": "code",
   "execution_count": 58,
   "id": "0163894e",
   "metadata": {},
   "outputs": [],
   "source": [
    "import azure.core\n",
    "from azureml.core import Workspace, Environment,Experiment,ScriptRun\n",
    "from azureml.core.compute import AmlCompute, ComputeInstance # for creating a compute cluster from python code\n",
    "from azureml.core.compute import ComputeTarget\n",
    "from azureml.core import ScriptRunConfig\n",
    "from azureml.core.webservice import AciWebservice"
   ]
  },
  {
   "cell_type": "markdown",
   "id": "78e22dfe",
   "metadata": {},
   "source": [
    "## Creating Workspace"
   ]
  },
  {
   "cell_type": "code",
   "execution_count": 6,
   "id": "0c1789a9",
   "metadata": {},
   "outputs": [
    {
     "name": "stderr",
     "output_type": "stream",
     "text": [
      "UserWarning: The resource group doesn't exist or was not provided. AzureML SDK is creating a resource group=analytics in location=eastus2 using subscription=a731217c-399f-4a77-9db6-81293ed043d6.\n"
     ]
    },
    {
     "name": "stdout",
     "output_type": "stream",
     "text": [
      "Deploying StorageAccount with name demowsstoragece5150448bf.\n",
      "Deploying KeyVault with name demowskeyvault44de8d4abc.\n",
      "Deployed KeyVault with name demowskeyvault44de8d4abc. Took 28.55 seconds.\n",
      "Deploying AppInsights with name demowsinsights69ccc697e7.\n",
      "Deployed AppInsights with name demowsinsights69ccc697e7. Took 74.7 seconds.\n",
      "Deploying Workspace with name demows.\n",
      "Deployed Workspace with name demows. Took 43.34 seconds.\n"
     ]
    }
   ],
   "source": [
    "ws = Workspace.create(\"demows\", resource_group=\"analytics\",\n",
    "                      subscription_id=\"a731217c-399f-4a77-9db6-81293ed043d6\",\n",
    "                      create_resource_group=True,\n",
    "                      location='eastus2')"
   ]
  },
  {
   "cell_type": "code",
   "execution_count": 7,
   "id": "d26c0eb4",
   "metadata": {},
   "outputs": [],
   "source": [
    "#if we want to place this workspace into a local folder\n",
    "ws.write_config('.azureml')"
   ]
  },
  {
   "cell_type": "code",
   "execution_count": 8,
   "id": "356d7751",
   "metadata": {},
   "outputs": [
    {
     "data": {
      "text/plain": [
       "Workspace.create(name='demows', subscription_id='a731217c-399f-4a77-9db6-81293ed043d6', resource_group='analytics')"
      ]
     },
     "execution_count": 8,
     "metadata": {},
     "output_type": "execute_result"
    }
   ],
   "source": [
    "# see workspace details\n",
    "ws.from_config()"
   ]
  },
  {
   "cell_type": "code",
   "execution_count": 9,
   "id": "24023552",
   "metadata": {},
   "outputs": [],
   "source": [
    "# just an try and except block for workspace\n",
    "#i.e if workspace is alrady present if not create\n",
    "\n",
    "try:\n",
    "    ws.write_config('.azureml')\n",
    "except:\n",
    "    ws = Workspace.create(\"demows\", resource_group=\"analytics\",\n",
    "                      subscription_id=\"a731217c-399f-4a77-9db6-81293ed043d6\",\n",
    "                      create_resource_group=True,\n",
    "                      location='eastus2')"
   ]
  },
  {
   "cell_type": "markdown",
   "id": "8faa888f",
   "metadata": {},
   "source": [
    "## Create Compute Cluster"
   ]
  },
  {
   "cell_type": "code",
   "execution_count": 16,
   "id": "b6d33f37",
   "metadata": {},
   "outputs": [],
   "source": [
    "# Creating compute cluster will by default create 2 datastorages\n",
    "try:\n",
    "    cluster = ComputeTarget(ws, 'demo-cluster') # if cluster is already present\n",
    "except:\n",
    "    # creating a config file for the compute cluster\n",
    "    config = AmlCompute.provisioning_configuration(vm_size='STANDARD_DS11_V2',\n",
    "                                                  min_nodes=0,\n",
    "                                                  max_nodes=6,\n",
    "                                                  idle_seconds_before_scaledown=2400)\n",
    "    # creating a compute cluster in workspace('ws') with above config\n",
    "    cluster = ComputeTarget.create(ws,'demo-cluster',config)"
   ]
  },
  {
   "cell_type": "markdown",
   "id": "ae4b7126",
   "metadata": {},
   "source": [
    "## How can we submit code from local machine to azure"
   ]
  },
  {
   "cell_type": "code",
   "execution_count": 17,
   "id": "e373d4c6",
   "metadata": {},
   "outputs": [
    {
     "data": {
      "text/plain": [
       "{'demo-cluster': AmlCompute(workspace=Workspace.create(name='demows', subscription_id='a731217c-399f-4a77-9db6-81293ed043d6', resource_group='analytics'), name=demo-cluster, id=/subscriptions/a731217c-399f-4a77-9db6-81293ed043d6/resourceGroups/analytics/providers/Microsoft.MachineLearningServices/workspaces/demows/computes/demo-cluster, type=AmlCompute, provisioning_state=Succeeded, location=eastus2, tags={})}"
      ]
     },
     "execution_count": 17,
     "metadata": {},
     "output_type": "execute_result"
    }
   ],
   "source": [
    "# shows how many compute targets are present\n",
    "ws.compute_targets"
   ]
  },
  {
   "cell_type": "code",
   "execution_count": 19,
   "id": "2a6abf60",
   "metadata": {},
   "outputs": [
    {
     "data": {
      "text/plain": [
       "{'workspaceworkingdirectory': {\n",
       "   \"name\": \"workspaceworkingdirectory\",\n",
       "   \"container_name\": \"code-391ff5ac-6576-460f-ba4d-7e03433c68b6\",\n",
       "   \"account_name\": \"demowsstoragece5150448bf\",\n",
       "   \"protocol\": \"https\",\n",
       "   \"endpoint\": \"core.windows.net\"\n",
       " },\n",
       " 'workspaceartifactstore': {\n",
       "   \"name\": \"workspaceartifactstore\",\n",
       "   \"container_name\": \"azureml\",\n",
       "   \"account_name\": \"demowsstoragece5150448bf\",\n",
       "   \"protocol\": \"https\",\n",
       "   \"endpoint\": \"core.windows.net\"\n",
       " },\n",
       " 'workspaceblobstore': {\n",
       "   \"name\": \"workspaceblobstore\",\n",
       "   \"container_name\": \"azureml-blobstore-b0d997a6-518f-4486-91e5-d63d731cf8ff\",\n",
       "   \"account_name\": \"demowsstoragece5150448bf\",\n",
       "   \"protocol\": \"https\",\n",
       "   \"endpoint\": \"core.windows.net\"\n",
       " },\n",
       " 'workspacefilestore': {\n",
       "   \"name\": \"workspacefilestore\",\n",
       "   \"container_name\": \"azureml-filestore-b0d997a6-518f-4486-91e5-d63d731cf8ff\",\n",
       "   \"account_name\": \"demowsstoragece5150448bf\",\n",
       "   \"protocol\": \"https\",\n",
       "   \"endpoint\": \"core.windows.net\"\n",
       " }}"
      ]
     },
     "execution_count": 19,
     "metadata": {},
     "output_type": "execute_result"
    }
   ],
   "source": [
    "# will show all datastorage\n",
    "ws.datastores"
   ]
  },
  {
   "cell_type": "markdown",
   "id": "51086ee1",
   "metadata": {},
   "source": [
    "### Creating an Experiment/Job"
   ]
  },
  {
   "cell_type": "code",
   "execution_count": 20,
   "id": "9017742a",
   "metadata": {},
   "outputs": [],
   "source": [
    "exp = Experiment(ws,\"demoexp\")"
   ]
  },
  {
   "cell_type": "code",
   "execution_count": 22,
   "id": "cce0ecc3",
   "metadata": {},
   "outputs": [
    {
     "data": {
      "text/html": [
       "<table style=\"width:100%\"><tr><th>Name</th><th>Workspace</th><th>Report Page</th><th>Docs Page</th></tr><tr><td>demoexp</td><td>demows</td><td><a href=\"https://ml.azure.com/experiments/id/6a83880a-3d07-4333-a906-40d31a5bf2c6?wsid=/subscriptions/a731217c-399f-4a77-9db6-81293ed043d6/resourcegroups/analytics/workspaces/demows&amp;tid=efa18b88-923e-4bd0-b7d8-7839065f527d\" target=\"_blank\" rel=\"noopener\">Link to Azure Machine Learning studio</a></td><td><a href=\"https://docs.microsoft.com/en-us/python/api/azureml-core/azureml.core.experiment.Experiment?view=azure-ml-py\" target=\"_blank\" rel=\"noopener\">Link to Documentation</a></td></tr></table>"
      ],
      "text/plain": [
       "Experiment(Name: demoexp,\n",
       "Workspace: demows)"
      ]
     },
     "execution_count": 22,
     "metadata": {},
     "output_type": "execute_result"
    }
   ],
   "source": [
    "# shows this recently created experiment is linked to perticular workspace\n",
    "# note: here experiment is mean by job\n",
    "exp"
   ]
  },
  {
   "cell_type": "markdown",
   "id": "da5c5667",
   "metadata": {},
   "source": [
    "#### Creating a environment"
   ]
  },
  {
   "cell_type": "code",
   "execution_count": 50,
   "id": "1af6e385",
   "metadata": {},
   "outputs": [],
   "source": [
    "# Just like in our local machine we create an environment we also need to create same in azure, to run the job.\n",
    "\n",
    "env = Environment.from_conda_specification(name=\"my-env\", file_path= \"./envfile.yaml\")\n"
   ]
  },
  {
   "cell_type": "code",
   "execution_count": 51,
   "id": "e8015052",
   "metadata": {},
   "outputs": [],
   "source": [
    "# without passing runtime arguments\n",
    "\n",
    "pythonconfig = ScriptRunConfig(source_directory=\"./\",script=\"Train.py\",compute_target= \"demo-cluster\",environment=env)\n",
    "execution = exp.submit(pythonconfig)"
   ]
  },
  {
   "cell_type": "code",
   "execution_count": null,
   "id": "5a971aee",
   "metadata": {},
   "outputs": [],
   "source": [
    "# Passing Arguments at runtime\n",
    "\n",
    "pythonconfig = ScriptRunConfig(source_directory=\"./\",script=\"Train.py\",compute_target= \"demo-cluster\",environment=env,\n",
    "                              arguments=[\"--min_samples_leaf\", 5,\n",
    "                                         \"--min_samples_split\",7])\n",
    "execution = exp.submit(pythonconfig)"
   ]
  },
  {
   "cell_type": "markdown",
   "id": "1c4ed2e7",
   "metadata": {},
   "source": [
    "#### Note: if we want logs in azure GUI we need to call some azure SDK in code. i.e azure.core import Run"
   ]
  },
  {
   "cell_type": "markdown",
   "id": "838e8268",
   "metadata": {},
   "source": [
    "### Register the Model"
   ]
  },
  {
   "cell_type": "code",
   "execution_count": null,
   "id": "53e9c530",
   "metadata": {},
   "outputs": [],
   "source": [
    "# This will register the model in azureml in specified workspace\n",
    "from azureml.core import Model\n",
    "Model.register(ws,model_path=./diabeticmodel.pkl, model_name='diabeticmodel1')"
   ]
  },
  {
   "cell_type": "code",
   "execution_count": null,
   "id": "7025a2bf",
   "metadata": {},
   "outputs": [],
   "source": []
  },
  {
   "cell_type": "markdown",
   "id": "9b1dd5ab",
   "metadata": {},
   "source": [
    "## Deploy Model\n",
    "1. Prepare the prediction script\n",
    "2. Cerate Inference Environment: It may possible that while predicting we don't need some of the libraries which are needed     while training mode, so new environment will ne great for predtiction!\n",
    "3. Define Inference Config\n",
    "4. Choose the compute Target where you want to deploy your model\n",
    "5. Deploy the model"
   ]
  },
  {
   "cell_type": "markdown",
   "id": "ea896181",
   "metadata": {},
   "source": [
    "### Note: we need to write source code for predicting which will include azure registered model location and model name"
   ]
  },
  {
   "cell_type": "code",
   "execution_count": 52,
   "id": "63e683ea",
   "metadata": {},
   "outputs": [],
   "source": [
    "from azureml.core.model import InferenceConfig\n",
    "from azureml.core.conda_dependencies import CondaDependencies"
   ]
  },
  {
   "cell_type": "code",
   "execution_count": 54,
   "id": "7f595798",
   "metadata": {},
   "outputs": [],
   "source": [
    "# Creating inference conda environment\n",
    "\n",
    "predenv = CondaDependencies()"
   ]
  },
  {
   "cell_type": "code",
   "execution_count": 55,
   "id": "10b9046b",
   "metadata": {},
   "outputs": [],
   "source": [
    "# specifing required libraries in conda enironment\n",
    "predenv.add_conda_package('scikit-learn')\n",
    "predenv.add_conda_package('azure-sdk')"
   ]
  },
  {
   "cell_type": "code",
   "execution_count": 56,
   "id": "36e21610",
   "metadata": {},
   "outputs": [
    {
     "data": {
      "text/plain": [
       "<azureml.core.conda_dependencies.CondaDependencies at 0x1bc3d2752e0>"
      ]
     },
     "execution_count": 56,
     "metadata": {},
     "output_type": "execute_result"
    }
   ],
   "source": [
    "# object of conda environment\n",
    "predenv"
   ]
  },
  {
   "cell_type": "code",
   "execution_count": 57,
   "id": "d2705ded",
   "metadata": {},
   "outputs": [
    {
     "name": "stdout",
     "output_type": "stream",
     "text": [
      "Saved dependency info in ./predenv.yml\n"
     ]
    }
   ],
   "source": [
    "# Creating yml file\n",
    "env_file = './predenv.yml'\n",
    "with open (env_file,\"w\") as f:\n",
    "    f.write(predenv.serialize_to_string())\n",
    "\n",
    "print(\"Saved dependency info in\", env_file)"
   ]
  },
  {
   "cell_type": "code",
   "execution_count": null,
   "id": "a1c76c1f",
   "metadata": {},
   "outputs": [],
   "source": [
    "# Creating an infrence config\n",
    "from azureml.core.model import InferenceConfig\n",
    "inferconfig = InferenceConfig(runtime='python',source_directory='./', entry_script='score.py', conda_file=env_file)"
   ]
  },
  {
   "cell_type": "code",
   "execution_count": null,
   "id": "3be25653",
   "metadata": {},
   "outputs": [],
   "source": [
    "# We are creating compute target. Here we are creating azure compute instance.\n",
    "# We can also do do it in aks\n",
    "\n",
    "from azureml.core.webservice import AciWebservice\n",
    "aciconfig = AciWebservice.deploy_configuration(cup_cores=1, memory_gb=1)\n"
   ]
  },
  {
   "cell_type": "code",
   "execution_count": null,
   "id": "cc057a1a",
   "metadata": {},
   "outputs": [],
   "source": [
    "model = Model(ws, \"diabeticmodel_instance\")\n",
    "deploy_infer = Model.delpoy(ws, \"scorepredictiondemo\",\n",
    "                           models=[model],\n",
    "                           inference_config = inference_config,\n",
    "                           deployment_config = aciconfig,\n",
    "                           deployment_target = predenv)"
   ]
  },
  {
   "cell_type": "code",
   "execution_count": null,
   "id": "54e8e2f6",
   "metadata": {},
   "outputs": [],
   "source": [
    " "
   ]
  },
  {
   "cell_type": "code",
   "execution_count": null,
   "id": "f3dfbe25",
   "metadata": {},
   "outputs": [],
   "source": []
  },
  {
   "cell_type": "code",
   "execution_count": null,
   "id": "1b9c003a",
   "metadata": {},
   "outputs": [],
   "source": []
  },
  {
   "cell_type": "code",
   "execution_count": null,
   "id": "893a59de",
   "metadata": {},
   "outputs": [],
   "source": []
  },
  {
   "cell_type": "code",
   "execution_count": null,
   "id": "5badbfbf",
   "metadata": {},
   "outputs": [],
   "source": []
  },
  {
   "cell_type": "code",
   "execution_count": null,
   "id": "f9662cee",
   "metadata": {},
   "outputs": [],
   "source": []
  },
  {
   "cell_type": "code",
   "execution_count": null,
   "id": "12b3e675",
   "metadata": {},
   "outputs": [],
   "source": []
  }
 ],
 "metadata": {
  "kernelspec": {
   "display_name": "Python 3 (ipykernel)",
   "language": "python",
   "name": "python3"
  },
  "language_info": {
   "codemirror_mode": {
    "name": "ipython",
    "version": 3
   },
   "file_extension": ".py",
   "mimetype": "text/x-python",
   "name": "python",
   "nbconvert_exporter": "python",
   "pygments_lexer": "ipython3",
   "version": "3.8.5"
  }
 },
 "nbformat": 4,
 "nbformat_minor": 5
}
