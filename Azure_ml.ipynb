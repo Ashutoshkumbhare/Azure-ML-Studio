{
 "cells": [
  {
   "cell_type": "code",
   "execution_count": 1,
   "id": "b6a82952",
   "metadata": {},
   "outputs": [],
   "source": [
    "#!pip install azureml-sdk"
   ]
  },
  {
   "cell_type": "code",
   "execution_count": 33,
   "id": "0163894e",
   "metadata": {},
   "outputs": [],
   "source": [
    "import azure.core\n",
    "from azureml.core import Workspace, Environment,Experiment,ScriptRun\n",
    "from azureml.core.compute import AmlCompute, ComputeInstance # for creating a compute cluster from python code\n",
    "from azureml.core.compute import ComputeTarget\n",
    "from azureml.core import ScriptRunConfig"
   ]
  },
  {
   "cell_type": "markdown",
   "id": "a3a7a78d",
   "metadata": {},
   "source": [
    "## Creating Workspace"
   ]
  },
  {
   "cell_type": "code",
   "execution_count": 6,
   "id": "3d5e7e8e",
   "metadata": {},
   "outputs": [
    {
     "name": "stderr",
     "output_type": "stream",
     "text": [
      "UserWarning: The resource group doesn't exist or was not provided. AzureML SDK is creating a resource group=analytics in location=eastus2 using subscription=a731217c-399f-4a77-9db6-81293ed043d6.\n"
     ]
    },
    {
     "name": "stdout",
     "output_type": "stream",
     "text": [
      "Deploying StorageAccount with name demowsstoragece5150448bf.\n",
      "Deploying KeyVault with name demowskeyvault44de8d4abc.\n",
      "Deployed KeyVault with name demowskeyvault44de8d4abc. Took 28.55 seconds.\n",
      "Deploying AppInsights with name demowsinsights69ccc697e7.\n",
      "Deployed AppInsights with name demowsinsights69ccc697e7. Took 74.7 seconds.\n",
      "Deploying Workspace with name demows.\n",
      "Deployed Workspace with name demows. Took 43.34 seconds.\n"
     ]
    }
   ],
   "source": [
    "ws = Workspace.create(\"demows\", resource_group=\"analytics\",\n",
    "                      subscription_id=\"a731217c-399f-4a77-9db6-81293ed043d6\",\n",
    "                      create_resource_group=True,\n",
    "                      location='eastus2')"
   ]
  },
  {
   "cell_type": "code",
   "execution_count": 7,
   "id": "eaef819c",
   "metadata": {},
   "outputs": [],
   "source": [
    "#if we want to place this workspace into a local folder\n",
    "ws.write_config('.azureml')"
   ]
  },
  {
   "cell_type": "code",
   "execution_count": 8,
   "id": "835372f0",
   "metadata": {},
   "outputs": [
    {
     "data": {
      "text/plain": [
       "Workspace.create(name='demows', subscription_id='a731217c-399f-4a77-9db6-81293ed043d6', resource_group='analytics')"
      ]
     },
     "execution_count": 8,
     "metadata": {},
     "output_type": "execute_result"
    }
   ],
   "source": [
    "# see workspace details\n",
    "ws.from_config()"
   ]
  },
  {
   "cell_type": "code",
   "execution_count": 9,
   "id": "416c7abd",
   "metadata": {},
   "outputs": [],
   "source": [
    "# just an try and except block for workspace\n",
    "#i.e if workspace is alrady present if not create\n",
    "\n",
    "try:\n",
    "    ws.write_config('.azureml')\n",
    "except:\n",
    "    ws = Workspace.create(\"demows\", resource_group=\"analytics\",\n",
    "                      subscription_id=\"a731217c-399f-4a77-9db6-81293ed043d6\",\n",
    "                      create_resource_group=True,\n",
    "                      location='eastus2')"
   ]
  },
  {
   "cell_type": "markdown",
   "id": "07ebe7e7",
   "metadata": {},
   "source": [
    "## Create Compute Cluster"
   ]
  },
  {
   "cell_type": "code",
   "execution_count": 16,
   "id": "bdef7bf6",
   "metadata": {},
   "outputs": [],
   "source": [
    "# Creating compute cluster will by default create 2 datastorages\n",
    "try:\n",
    "    cluster = ComputeTarget(ws, 'demo-cluster') # if cluster is already present\n",
    "except:\n",
    "    # creating a config file for the compute cluster\n",
    "    config = AmlCompute.provisioning_configuration(vm_size='STANDARD_DS11_V2',\n",
    "                                                  min_nodes=0,\n",
    "                                                  max_nodes=6,\n",
    "                                                  idle_seconds_before_scaledown=2400)\n",
    "    # creating a compute cluster in workspace('ws') with above config\n",
    "    cluster = ComputeTarget.create(ws,'demo-cluster',config)"
   ]
  },
  {
   "cell_type": "markdown",
   "id": "68fd79f8",
   "metadata": {},
   "source": [
    "## How can we submit code from local machine to azure"
   ]
  },
  {
   "cell_type": "code",
   "execution_count": 17,
   "id": "68a66992",
   "metadata": {},
   "outputs": [
    {
     "data": {
      "text/plain": [
       "{'demo-cluster': AmlCompute(workspace=Workspace.create(name='demows', subscription_id='a731217c-399f-4a77-9db6-81293ed043d6', resource_group='analytics'), name=demo-cluster, id=/subscriptions/a731217c-399f-4a77-9db6-81293ed043d6/resourceGroups/analytics/providers/Microsoft.MachineLearningServices/workspaces/demows/computes/demo-cluster, type=AmlCompute, provisioning_state=Succeeded, location=eastus2, tags={})}"
      ]
     },
     "execution_count": 17,
     "metadata": {},
     "output_type": "execute_result"
    }
   ],
   "source": [
    "# shows how many compute targets are present\n",
    "ws.compute_targets"
   ]
  },
  {
   "cell_type": "code",
   "execution_count": 19,
   "id": "490f8b1c",
   "metadata": {},
   "outputs": [
    {
     "data": {
      "text/plain": [
       "{'workspaceworkingdirectory': {\n",
       "   \"name\": \"workspaceworkingdirectory\",\n",
       "   \"container_name\": \"code-391ff5ac-6576-460f-ba4d-7e03433c68b6\",\n",
       "   \"account_name\": \"demowsstoragece5150448bf\",\n",
       "   \"protocol\": \"https\",\n",
       "   \"endpoint\": \"core.windows.net\"\n",
       " },\n",
       " 'workspaceartifactstore': {\n",
       "   \"name\": \"workspaceartifactstore\",\n",
       "   \"container_name\": \"azureml\",\n",
       "   \"account_name\": \"demowsstoragece5150448bf\",\n",
       "   \"protocol\": \"https\",\n",
       "   \"endpoint\": \"core.windows.net\"\n",
       " },\n",
       " 'workspaceblobstore': {\n",
       "   \"name\": \"workspaceblobstore\",\n",
       "   \"container_name\": \"azureml-blobstore-b0d997a6-518f-4486-91e5-d63d731cf8ff\",\n",
       "   \"account_name\": \"demowsstoragece5150448bf\",\n",
       "   \"protocol\": \"https\",\n",
       "   \"endpoint\": \"core.windows.net\"\n",
       " },\n",
       " 'workspacefilestore': {\n",
       "   \"name\": \"workspacefilestore\",\n",
       "   \"container_name\": \"azureml-filestore-b0d997a6-518f-4486-91e5-d63d731cf8ff\",\n",
       "   \"account_name\": \"demowsstoragece5150448bf\",\n",
       "   \"protocol\": \"https\",\n",
       "   \"endpoint\": \"core.windows.net\"\n",
       " }}"
      ]
     },
     "execution_count": 19,
     "metadata": {},
     "output_type": "execute_result"
    }
   ],
   "source": [
    "# will show all datastorage\n",
    "ws.datastores"
   ]
  },
  {
   "cell_type": "markdown",
   "id": "6fd71071",
   "metadata": {},
   "source": [
    "### Creating an Experiment/Job"
   ]
  },
  {
   "cell_type": "code",
   "execution_count": 20,
   "id": "6721b62d",
   "metadata": {},
   "outputs": [],
   "source": [
    "exp = Experiment(ws,\"demoexp\")"
   ]
  },
  {
   "cell_type": "code",
   "execution_count": 22,
   "id": "d765cbec",
   "metadata": {},
   "outputs": [
    {
     "data": {
      "text/html": [
       "<table style=\"width:100%\"><tr><th>Name</th><th>Workspace</th><th>Report Page</th><th>Docs Page</th></tr><tr><td>demoexp</td><td>demows</td><td><a href=\"https://ml.azure.com/experiments/id/6a83880a-3d07-4333-a906-40d31a5bf2c6?wsid=/subscriptions/a731217c-399f-4a77-9db6-81293ed043d6/resourcegroups/analytics/workspaces/demows&amp;tid=efa18b88-923e-4bd0-b7d8-7839065f527d\" target=\"_blank\" rel=\"noopener\">Link to Azure Machine Learning studio</a></td><td><a href=\"https://docs.microsoft.com/en-us/python/api/azureml-core/azureml.core.experiment.Experiment?view=azure-ml-py\" target=\"_blank\" rel=\"noopener\">Link to Documentation</a></td></tr></table>"
      ],
      "text/plain": [
       "Experiment(Name: demoexp,\n",
       "Workspace: demows)"
      ]
     },
     "execution_count": 22,
     "metadata": {},
     "output_type": "execute_result"
    }
   ],
   "source": [
    "# shows this recently created experiment is linked to perticular workspace\n",
    "# note: here experiment is mean by job\n",
    "exp"
   ]
  },
  {
   "cell_type": "markdown",
   "id": "20193df9",
   "metadata": {},
   "source": [
    "#### Creating a environment"
   ]
  },
  {
   "cell_type": "code",
   "execution_count": 38,
   "id": "96a52e25",
   "metadata": {},
   "outputs": [
    {
     "ename": "ParserError",
     "evalue": "while parsing a block collection\n  in \"./envfile.yaml\", line 6, column 3\nexpected <block end>, but found '?'\n  in \"./envfile.yaml\", line 11, column 3",
     "output_type": "error",
     "traceback": [
      "\u001b[1;31m---------------------------------------------------------------------------\u001b[0m",
      "\u001b[1;31mParserError\u001b[0m                               Traceback (most recent call last)",
      "Cell \u001b[1;32mIn[38], line 3\u001b[0m\n\u001b[0;32m      1\u001b[0m \u001b[38;5;66;03m# Just like in our local machine we create an environment we also need to create same in azure, to run the job.\u001b[39;00m\n\u001b[1;32m----> 3\u001b[0m env \u001b[38;5;241m=\u001b[39m \u001b[43mEnvironment\u001b[49m\u001b[38;5;241;43m.\u001b[39;49m\u001b[43mfrom_conda_specification\u001b[49m\u001b[43m(\u001b[49m\u001b[43mname\u001b[49m\u001b[38;5;241;43m=\u001b[39;49m\u001b[38;5;124;43m\"\u001b[39;49m\u001b[38;5;124;43mvirtualenv\u001b[39;49m\u001b[38;5;124;43m\"\u001b[39;49m\u001b[43m,\u001b[49m\u001b[43m \u001b[49m\u001b[43mfile_path\u001b[49m\u001b[38;5;241;43m=\u001b[39;49m\u001b[38;5;124;43m'\u001b[39;49m\u001b[38;5;124;43m./envfile.yaml\u001b[39;49m\u001b[38;5;124;43m'\u001b[39;49m\u001b[43m)\u001b[49m\n\u001b[0;32m      4\u001b[0m \u001b[38;5;66;03m# env = \"virtualenv\"\u001b[39;00m\n",
      "File \u001b[1;32m~\\anaconda3\\envs\\azure\\lib\\site-packages\\azureml\\core\\environment.py:1302\u001b[0m, in \u001b[0;36mEnvironment.from_conda_specification\u001b[1;34m(name, file_path)\u001b[0m\n\u001b[0;32m   1287\u001b[0m \u001b[38;5;129m@staticmethod\u001b[39m\n\u001b[0;32m   1288\u001b[0m \u001b[38;5;28;01mdef\u001b[39;00m \u001b[38;5;21mfrom_conda_specification\u001b[39m(name, file_path):\n\u001b[0;32m   1289\u001b[0m \u001b[38;5;250m    \u001b[39m\u001b[38;5;124;03m\"\"\"Create environment object from an environment specification YAML file.\u001b[39;00m\n\u001b[0;32m   1290\u001b[0m \n\u001b[0;32m   1291\u001b[0m \u001b[38;5;124;03m    To get an environment specification YAML file, see `Managing environments\u001b[39;00m\n\u001b[1;32m   (...)\u001b[0m\n\u001b[0;32m   1300\u001b[0m \u001b[38;5;124;03m    :rtype: azureml.core.environment.Environment\u001b[39;00m\n\u001b[0;32m   1301\u001b[0m \u001b[38;5;124;03m    \"\"\"\u001b[39;00m  \u001b[38;5;66;03m# noqa: E501\u001b[39;00m\n\u001b[1;32m-> 1302\u001b[0m     conda_dependencies \u001b[38;5;241m=\u001b[39m \u001b[43mCondaDependencies\u001b[49m\u001b[43m(\u001b[49m\u001b[43mconda_dependencies_file_path\u001b[49m\u001b[38;5;241;43m=\u001b[39;49m\u001b[43mfile_path\u001b[49m\u001b[43m)\u001b[49m\n\u001b[0;32m   1303\u001b[0m     \u001b[38;5;28;01mif\u001b[39;00m \u001b[38;5;129;01mnot\u001b[39;00m conda_dependencies\u001b[38;5;241m.\u001b[39m_python_version:\n\u001b[0;32m   1304\u001b[0m         module_logger\u001b[38;5;241m.\u001b[39mwarning(\u001b[38;5;124m'\u001b[39m\u001b[38;5;124mNo Python version provided, defaulting to \u001b[39m\u001b[38;5;124m\"\u001b[39m\u001b[38;5;132;01m{}\u001b[39;00m\u001b[38;5;124m\"\u001b[39m\u001b[38;5;124m'\u001b[39m\u001b[38;5;241m.\u001b[39mformat(PYTHON_DEFAULT_VERSION))\n",
      "File \u001b[1;32m~\\anaconda3\\envs\\azure\\lib\\site-packages\\azureml\\core\\conda_dependencies.py:130\u001b[0m, in \u001b[0;36mCondaDependencies.__init__\u001b[1;34m(self, conda_dependencies_file_path, _underlying_structure)\u001b[0m\n\u001b[0;32m    128\u001b[0m \u001b[38;5;28;01mif\u001b[39;00m conda_dependencies_file_path:\n\u001b[0;32m    129\u001b[0m     \u001b[38;5;28;01mwith\u001b[39;00m \u001b[38;5;28mopen\u001b[39m(conda_dependencies_file_path, \u001b[38;5;124m\"\u001b[39m\u001b[38;5;124mr\u001b[39m\u001b[38;5;124m\"\u001b[39m) \u001b[38;5;28;01mas\u001b[39;00m \u001b[38;5;28minput\u001b[39m:\n\u001b[1;32m--> 130\u001b[0m         \u001b[38;5;28mself\u001b[39m\u001b[38;5;241m.\u001b[39m_conda_dependencies \u001b[38;5;241m=\u001b[39m \u001b[43mruamelyaml\u001b[49m\u001b[38;5;241;43m.\u001b[39;49m\u001b[43mround_trip_load\u001b[49m\u001b[43m(\u001b[49m\u001b[38;5;28;43minput\u001b[39;49m\u001b[43m)\u001b[49m\n\u001b[0;32m    131\u001b[0m \u001b[38;5;28;01melif\u001b[39;00m _underlying_structure:\n\u001b[0;32m    132\u001b[0m     \u001b[38;5;28mself\u001b[39m\u001b[38;5;241m.\u001b[39m_conda_dependencies \u001b[38;5;241m=\u001b[39m _underlying_structure\n",
      "File \u001b[1;32m~\\anaconda3\\envs\\azure\\lib\\site-packages\\azureml\\_vendor\\ruamel\\yaml\\main.py:1140\u001b[0m, in \u001b[0;36mround_trip_load\u001b[1;34m(stream, version, preserve_quotes)\u001b[0m\n\u001b[0;32m   1134\u001b[0m \u001b[38;5;250m\u001b[39m\u001b[38;5;124;03m\"\"\"\u001b[39;00m\n\u001b[0;32m   1135\u001b[0m \u001b[38;5;124;03mParse the first YAML document in a stream\u001b[39;00m\n\u001b[0;32m   1136\u001b[0m \u001b[38;5;124;03mand produce the corresponding Python object.\u001b[39;00m\n\u001b[0;32m   1137\u001b[0m \u001b[38;5;124;03mResolve only basic YAML tags.\u001b[39;00m\n\u001b[0;32m   1138\u001b[0m \u001b[38;5;124;03m\"\"\"\u001b[39;00m\n\u001b[0;32m   1139\u001b[0m warn_deprecation(\u001b[38;5;124m'\u001b[39m\u001b[38;5;124mround_trip_load_all\u001b[39m\u001b[38;5;124m'\u001b[39m, \u001b[38;5;124m'\u001b[39m\u001b[38;5;124mload\u001b[39m\u001b[38;5;124m'\u001b[39m)\n\u001b[1;32m-> 1140\u001b[0m \u001b[38;5;28;01mreturn\u001b[39;00m \u001b[43mload\u001b[49m\u001b[43m(\u001b[49m\u001b[43mstream\u001b[49m\u001b[43m,\u001b[49m\u001b[43m \u001b[49m\u001b[43mRoundTripLoader\u001b[49m\u001b[43m,\u001b[49m\u001b[43m \u001b[49m\u001b[43mversion\u001b[49m\u001b[43m,\u001b[49m\u001b[43m \u001b[49m\u001b[43mpreserve_quotes\u001b[49m\u001b[38;5;241;43m=\u001b[39;49m\u001b[43mpreserve_quotes\u001b[49m\u001b[43m)\u001b[49m\n",
      "File \u001b[1;32m~\\anaconda3\\envs\\azure\\lib\\site-packages\\azureml\\_vendor\\ruamel\\yaml\\main.py:1071\u001b[0m, in \u001b[0;36mload\u001b[1;34m(stream, Loader, version, preserve_quotes)\u001b[0m\n\u001b[0;32m   1069\u001b[0m loader \u001b[38;5;241m=\u001b[39m Loader(stream, version, preserve_quotes\u001b[38;5;241m=\u001b[39mpreserve_quotes)  \u001b[38;5;66;03m# type: Any\u001b[39;00m\n\u001b[0;32m   1070\u001b[0m \u001b[38;5;28;01mtry\u001b[39;00m:\n\u001b[1;32m-> 1071\u001b[0m     \u001b[38;5;28;01mreturn\u001b[39;00m \u001b[43mloader\u001b[49m\u001b[38;5;241;43m.\u001b[39;49m\u001b[43m_constructor\u001b[49m\u001b[38;5;241;43m.\u001b[39;49m\u001b[43mget_single_data\u001b[49m\u001b[43m(\u001b[49m\u001b[43m)\u001b[49m\n\u001b[0;32m   1072\u001b[0m \u001b[38;5;28;01mfinally\u001b[39;00m:\n\u001b[0;32m   1073\u001b[0m     loader\u001b[38;5;241m.\u001b[39m_parser\u001b[38;5;241m.\u001b[39mdispose()\n",
      "File \u001b[1;32m~\\anaconda3\\envs\\azure\\lib\\site-packages\\azureml\\_vendor\\ruamel\\yaml\\constructor.py:125\u001b[0m, in \u001b[0;36mBaseConstructor.get_single_data\u001b[1;34m(self)\u001b[0m\n\u001b[0;32m    122\u001b[0m \u001b[38;5;28;01mdef\u001b[39;00m \u001b[38;5;21mget_single_data\u001b[39m(\u001b[38;5;28mself\u001b[39m):\n\u001b[0;32m    123\u001b[0m     \u001b[38;5;66;03m# type: () -> Any\u001b[39;00m\n\u001b[0;32m    124\u001b[0m     \u001b[38;5;66;03m# Ensure that the stream contains a single document and construct it.\u001b[39;00m\n\u001b[1;32m--> 125\u001b[0m     node \u001b[38;5;241m=\u001b[39m \u001b[38;5;28;43mself\u001b[39;49m\u001b[38;5;241;43m.\u001b[39;49m\u001b[43mcomposer\u001b[49m\u001b[38;5;241;43m.\u001b[39;49m\u001b[43mget_single_node\u001b[49m\u001b[43m(\u001b[49m\u001b[43m)\u001b[49m\n\u001b[0;32m    126\u001b[0m     \u001b[38;5;28;01mif\u001b[39;00m node \u001b[38;5;129;01mis\u001b[39;00m \u001b[38;5;129;01mnot\u001b[39;00m \u001b[38;5;28;01mNone\u001b[39;00m:\n\u001b[0;32m    127\u001b[0m         \u001b[38;5;28;01mreturn\u001b[39;00m \u001b[38;5;28mself\u001b[39m\u001b[38;5;241m.\u001b[39mconstruct_document(node)\n",
      "File \u001b[1;32m~\\anaconda3\\envs\\azure\\lib\\site-packages\\azureml\\_vendor\\ruamel\\yaml\\composer.py:76\u001b[0m, in \u001b[0;36mComposer.get_single_node\u001b[1;34m(self)\u001b[0m\n\u001b[0;32m     74\u001b[0m document \u001b[38;5;241m=\u001b[39m \u001b[38;5;28;01mNone\u001b[39;00m  \u001b[38;5;66;03m# type: Any\u001b[39;00m\n\u001b[0;32m     75\u001b[0m \u001b[38;5;28;01mif\u001b[39;00m \u001b[38;5;129;01mnot\u001b[39;00m \u001b[38;5;28mself\u001b[39m\u001b[38;5;241m.\u001b[39mparser\u001b[38;5;241m.\u001b[39mcheck_event(StreamEndEvent):\n\u001b[1;32m---> 76\u001b[0m     document \u001b[38;5;241m=\u001b[39m \u001b[38;5;28;43mself\u001b[39;49m\u001b[38;5;241;43m.\u001b[39;49m\u001b[43mcompose_document\u001b[49m\u001b[43m(\u001b[49m\u001b[43m)\u001b[49m\n\u001b[0;32m     78\u001b[0m \u001b[38;5;66;03m# Ensure that the stream contains no more documents.\u001b[39;00m\n\u001b[0;32m     79\u001b[0m \u001b[38;5;28;01mif\u001b[39;00m \u001b[38;5;129;01mnot\u001b[39;00m \u001b[38;5;28mself\u001b[39m\u001b[38;5;241m.\u001b[39mparser\u001b[38;5;241m.\u001b[39mcheck_event(StreamEndEvent):\n",
      "File \u001b[1;32m~\\anaconda3\\envs\\azure\\lib\\site-packages\\azureml\\_vendor\\ruamel\\yaml\\composer.py:99\u001b[0m, in \u001b[0;36mComposer.compose_document\u001b[1;34m(self)\u001b[0m\n\u001b[0;32m     96\u001b[0m \u001b[38;5;28mself\u001b[39m\u001b[38;5;241m.\u001b[39mparser\u001b[38;5;241m.\u001b[39mget_event()\n\u001b[0;32m     98\u001b[0m \u001b[38;5;66;03m# Compose the root node.\u001b[39;00m\n\u001b[1;32m---> 99\u001b[0m node \u001b[38;5;241m=\u001b[39m \u001b[38;5;28;43mself\u001b[39;49m\u001b[38;5;241;43m.\u001b[39;49m\u001b[43mcompose_node\u001b[49m\u001b[43m(\u001b[49m\u001b[38;5;28;43;01mNone\u001b[39;49;00m\u001b[43m,\u001b[49m\u001b[43m \u001b[49m\u001b[38;5;28;43;01mNone\u001b[39;49;00m\u001b[43m)\u001b[49m\n\u001b[0;32m    101\u001b[0m \u001b[38;5;66;03m# Drop the DOCUMENT-END event.\u001b[39;00m\n\u001b[0;32m    102\u001b[0m \u001b[38;5;28mself\u001b[39m\u001b[38;5;241m.\u001b[39mparser\u001b[38;5;241m.\u001b[39mget_event()\n",
      "File \u001b[1;32m~\\anaconda3\\envs\\azure\\lib\\site-packages\\azureml\\_vendor\\ruamel\\yaml\\composer.py:143\u001b[0m, in \u001b[0;36mComposer.compose_node\u001b[1;34m(self, parent, index)\u001b[0m\n\u001b[0;32m    141\u001b[0m     node \u001b[38;5;241m=\u001b[39m \u001b[38;5;28mself\u001b[39m\u001b[38;5;241m.\u001b[39mcompose_sequence_node(anchor)\n\u001b[0;32m    142\u001b[0m \u001b[38;5;28;01melif\u001b[39;00m \u001b[38;5;28mself\u001b[39m\u001b[38;5;241m.\u001b[39mparser\u001b[38;5;241m.\u001b[39mcheck_event(MappingStartEvent):\n\u001b[1;32m--> 143\u001b[0m     node \u001b[38;5;241m=\u001b[39m \u001b[38;5;28;43mself\u001b[39;49m\u001b[38;5;241;43m.\u001b[39;49m\u001b[43mcompose_mapping_node\u001b[49m\u001b[43m(\u001b[49m\u001b[43manchor\u001b[49m\u001b[43m)\u001b[49m\n\u001b[0;32m    144\u001b[0m \u001b[38;5;28mself\u001b[39m\u001b[38;5;241m.\u001b[39mresolver\u001b[38;5;241m.\u001b[39mascend_resolver()\n\u001b[0;32m    145\u001b[0m \u001b[38;5;28;01mreturn\u001b[39;00m node\n",
      "File \u001b[1;32m~\\anaconda3\\envs\\azure\\lib\\site-packages\\azureml\\_vendor\\ruamel\\yaml\\composer.py:223\u001b[0m, in \u001b[0;36mComposer.compose_mapping_node\u001b[1;34m(self, anchor)\u001b[0m\n\u001b[0;32m    218\u001b[0m item_key \u001b[38;5;241m=\u001b[39m \u001b[38;5;28mself\u001b[39m\u001b[38;5;241m.\u001b[39mcompose_node(node, \u001b[38;5;28;01mNone\u001b[39;00m)\n\u001b[0;32m    219\u001b[0m \u001b[38;5;66;03m# if item_key in node.value:\u001b[39;00m\n\u001b[0;32m    220\u001b[0m \u001b[38;5;66;03m#     raise ComposerError(\"while composing a mapping\",\u001b[39;00m\n\u001b[0;32m    221\u001b[0m \u001b[38;5;66;03m#             start_event.start_mark,\u001b[39;00m\n\u001b[0;32m    222\u001b[0m \u001b[38;5;66;03m#             \"found duplicate key\", key_event.start_mark)\u001b[39;00m\n\u001b[1;32m--> 223\u001b[0m item_value \u001b[38;5;241m=\u001b[39m \u001b[38;5;28;43mself\u001b[39;49m\u001b[38;5;241;43m.\u001b[39;49m\u001b[43mcompose_node\u001b[49m\u001b[43m(\u001b[49m\u001b[43mnode\u001b[49m\u001b[43m,\u001b[49m\u001b[43m \u001b[49m\u001b[43mitem_key\u001b[49m\u001b[43m)\u001b[49m\n\u001b[0;32m    224\u001b[0m \u001b[38;5;66;03m# node.value[item_key] = item_value\u001b[39;00m\n\u001b[0;32m    225\u001b[0m node\u001b[38;5;241m.\u001b[39mvalue\u001b[38;5;241m.\u001b[39mappend((item_key, item_value))\n",
      "File \u001b[1;32m~\\anaconda3\\envs\\azure\\lib\\site-packages\\azureml\\_vendor\\ruamel\\yaml\\composer.py:141\u001b[0m, in \u001b[0;36mComposer.compose_node\u001b[1;34m(self, parent, index)\u001b[0m\n\u001b[0;32m    139\u001b[0m     node \u001b[38;5;241m=\u001b[39m \u001b[38;5;28mself\u001b[39m\u001b[38;5;241m.\u001b[39mcompose_scalar_node(anchor)\n\u001b[0;32m    140\u001b[0m \u001b[38;5;28;01melif\u001b[39;00m \u001b[38;5;28mself\u001b[39m\u001b[38;5;241m.\u001b[39mparser\u001b[38;5;241m.\u001b[39mcheck_event(SequenceStartEvent):\n\u001b[1;32m--> 141\u001b[0m     node \u001b[38;5;241m=\u001b[39m \u001b[38;5;28;43mself\u001b[39;49m\u001b[38;5;241;43m.\u001b[39;49m\u001b[43mcompose_sequence_node\u001b[49m\u001b[43m(\u001b[49m\u001b[43manchor\u001b[49m\u001b[43m)\u001b[49m\n\u001b[0;32m    142\u001b[0m \u001b[38;5;28;01melif\u001b[39;00m \u001b[38;5;28mself\u001b[39m\u001b[38;5;241m.\u001b[39mparser\u001b[38;5;241m.\u001b[39mcheck_event(MappingStartEvent):\n\u001b[0;32m    143\u001b[0m     node \u001b[38;5;241m=\u001b[39m \u001b[38;5;28mself\u001b[39m\u001b[38;5;241m.\u001b[39mcompose_mapping_node(anchor)\n",
      "File \u001b[1;32m~\\anaconda3\\envs\\azure\\lib\\site-packages\\azureml\\_vendor\\ruamel\\yaml\\composer.py:184\u001b[0m, in \u001b[0;36mComposer.compose_sequence_node\u001b[1;34m(self, anchor)\u001b[0m\n\u001b[0;32m    182\u001b[0m     \u001b[38;5;28mself\u001b[39m\u001b[38;5;241m.\u001b[39manchors[anchor] \u001b[38;5;241m=\u001b[39m node\n\u001b[0;32m    183\u001b[0m index \u001b[38;5;241m=\u001b[39m \u001b[38;5;241m0\u001b[39m\n\u001b[1;32m--> 184\u001b[0m \u001b[38;5;28;01mwhile\u001b[39;00m \u001b[38;5;129;01mnot\u001b[39;00m \u001b[38;5;28;43mself\u001b[39;49m\u001b[38;5;241;43m.\u001b[39;49m\u001b[43mparser\u001b[49m\u001b[38;5;241;43m.\u001b[39;49m\u001b[43mcheck_event\u001b[49m\u001b[43m(\u001b[49m\u001b[43mSequenceEndEvent\u001b[49m\u001b[43m)\u001b[49m:\n\u001b[0;32m    185\u001b[0m     node\u001b[38;5;241m.\u001b[39mvalue\u001b[38;5;241m.\u001b[39mappend(\u001b[38;5;28mself\u001b[39m\u001b[38;5;241m.\u001b[39mcompose_node(node, index))\n\u001b[0;32m    186\u001b[0m     index \u001b[38;5;241m+\u001b[39m\u001b[38;5;241m=\u001b[39m \u001b[38;5;241m1\u001b[39m\n",
      "File \u001b[1;32m~\\anaconda3\\envs\\azure\\lib\\site-packages\\azureml\\_vendor\\ruamel\\yaml\\parser.py:146\u001b[0m, in \u001b[0;36mParser.check_event\u001b[1;34m(self, *choices)\u001b[0m\n\u001b[0;32m    144\u001b[0m \u001b[38;5;28;01mif\u001b[39;00m \u001b[38;5;28mself\u001b[39m\u001b[38;5;241m.\u001b[39mcurrent_event \u001b[38;5;129;01mis\u001b[39;00m \u001b[38;5;28;01mNone\u001b[39;00m:\n\u001b[0;32m    145\u001b[0m     \u001b[38;5;28;01mif\u001b[39;00m \u001b[38;5;28mself\u001b[39m\u001b[38;5;241m.\u001b[39mstate:\n\u001b[1;32m--> 146\u001b[0m         \u001b[38;5;28mself\u001b[39m\u001b[38;5;241m.\u001b[39mcurrent_event \u001b[38;5;241m=\u001b[39m \u001b[38;5;28;43mself\u001b[39;49m\u001b[38;5;241;43m.\u001b[39;49m\u001b[43mstate\u001b[49m\u001b[43m(\u001b[49m\u001b[43m)\u001b[49m\n\u001b[0;32m    147\u001b[0m \u001b[38;5;28;01mif\u001b[39;00m \u001b[38;5;28mself\u001b[39m\u001b[38;5;241m.\u001b[39mcurrent_event \u001b[38;5;129;01mis\u001b[39;00m \u001b[38;5;129;01mnot\u001b[39;00m \u001b[38;5;28;01mNone\u001b[39;00m:\n\u001b[0;32m    148\u001b[0m     \u001b[38;5;28;01mif\u001b[39;00m \u001b[38;5;129;01mnot\u001b[39;00m choices:\n",
      "File \u001b[1;32m~\\anaconda3\\envs\\azure\\lib\\site-packages\\azureml\\_vendor\\ruamel\\yaml\\parser.py:540\u001b[0m, in \u001b[0;36mParser.parse_block_sequence_entry\u001b[1;34m(self)\u001b[0m\n\u001b[0;32m    538\u001b[0m \u001b[38;5;28;01mif\u001b[39;00m \u001b[38;5;129;01mnot\u001b[39;00m \u001b[38;5;28mself\u001b[39m\u001b[38;5;241m.\u001b[39mscanner\u001b[38;5;241m.\u001b[39mcheck_token(BlockEndToken):\n\u001b[0;32m    539\u001b[0m     token \u001b[38;5;241m=\u001b[39m \u001b[38;5;28mself\u001b[39m\u001b[38;5;241m.\u001b[39mscanner\u001b[38;5;241m.\u001b[39mpeek_token()\n\u001b[1;32m--> 540\u001b[0m     \u001b[38;5;28;01mraise\u001b[39;00m ParserError(\n\u001b[0;32m    541\u001b[0m         \u001b[38;5;124m'\u001b[39m\u001b[38;5;124mwhile parsing a block collection\u001b[39m\u001b[38;5;124m'\u001b[39m,\n\u001b[0;32m    542\u001b[0m         \u001b[38;5;28mself\u001b[39m\u001b[38;5;241m.\u001b[39mmarks[\u001b[38;5;241m-\u001b[39m\u001b[38;5;241m1\u001b[39m],\n\u001b[0;32m    543\u001b[0m         _F(\u001b[38;5;124m'\u001b[39m\u001b[38;5;124mexpected <block end>, but found \u001b[39m\u001b[38;5;132;01m{token_id!r}\u001b[39;00m\u001b[38;5;124m'\u001b[39m, token_id\u001b[38;5;241m=\u001b[39mtoken\u001b[38;5;241m.\u001b[39mid),\n\u001b[0;32m    544\u001b[0m         token\u001b[38;5;241m.\u001b[39mstart_mark,\n\u001b[0;32m    545\u001b[0m     )\n\u001b[0;32m    546\u001b[0m token \u001b[38;5;241m=\u001b[39m \u001b[38;5;28mself\u001b[39m\u001b[38;5;241m.\u001b[39mscanner\u001b[38;5;241m.\u001b[39mget_token()  \u001b[38;5;66;03m# BlockEndToken\u001b[39;00m\n\u001b[0;32m    547\u001b[0m event \u001b[38;5;241m=\u001b[39m SequenceEndEvent(token\u001b[38;5;241m.\u001b[39mstart_mark, token\u001b[38;5;241m.\u001b[39mend_mark, comment\u001b[38;5;241m=\u001b[39mtoken\u001b[38;5;241m.\u001b[39mcomment)\n",
      "\u001b[1;31mParserError\u001b[0m: while parsing a block collection\n  in \"./envfile.yaml\", line 6, column 3\nexpected <block end>, but found '?'\n  in \"./envfile.yaml\", line 11, column 3"
     ]
    }
   ],
   "source": [
    "# Just like in our local machine we create an environment we also need to create same in azure, to run the job.\n",
    "\n",
    "env = Environment.from_conda_specification(name=\"virtualenv\", file_path='./envfile.yaml')\n",
    "# env = \"virtualenv\""
   ]
  },
  {
   "cell_type": "code",
   "execution_count": 36,
   "id": "a35cfd5d",
   "metadata": {
    "collapsed": true
   },
   "outputs": [
    {
     "ename": "AttributeError",
     "evalue": "'str' object has no attribute 'docker'",
     "output_type": "error",
     "traceback": [
      "\u001b[1;31m---------------------------------------------------------------------------\u001b[0m",
      "\u001b[1;31mAttributeError\u001b[0m                            Traceback (most recent call last)",
      "Cell \u001b[1;32mIn[36], line 1\u001b[0m\n\u001b[1;32m----> 1\u001b[0m pythonconfig \u001b[38;5;241m=\u001b[39m \u001b[43mScriptRunConfig\u001b[49m\u001b[43m(\u001b[49m\u001b[43msource_directory\u001b[49m\u001b[38;5;241;43m=\u001b[39;49m\u001b[38;5;124;43m\"\u001b[39;49m\u001b[38;5;124;43m./\u001b[39;49m\u001b[38;5;124;43m\"\u001b[39;49m\u001b[43m,\u001b[49m\u001b[43mscript\u001b[49m\u001b[38;5;241;43m=\u001b[39;49m\u001b[38;5;124;43m\"\u001b[39;49m\u001b[38;5;124;43mTrain.py\u001b[39;49m\u001b[38;5;124;43m\"\u001b[39;49m\u001b[43m,\u001b[49m\u001b[43mcompute_target\u001b[49m\u001b[38;5;241;43m=\u001b[39;49m\u001b[43m \u001b[49m\u001b[38;5;124;43m\"\u001b[39;49m\u001b[38;5;124;43mdemo-cluster\u001b[39;49m\u001b[38;5;124;43m\"\u001b[39;49m\u001b[43m,\u001b[49m\u001b[43menvironment\u001b[49m\u001b[38;5;241;43m=\u001b[39;49m\u001b[38;5;124;43m\"\u001b[39;49m\u001b[38;5;124;43mvirtualenv\u001b[39;49m\u001b[38;5;124;43m\"\u001b[39;49m\u001b[43m)\u001b[49m\n",
      "File \u001b[1;32m~\\anaconda3\\envs\\azure\\lib\\site-packages\\azureml\\core\\_experiment_method.py:104\u001b[0m, in \u001b[0;36mexperiment_method.<locals>.real_decorator.<locals>.wrapper\u001b[1;34m(self, *args, **kwargs)\u001b[0m\n\u001b[0;32m     93\u001b[0m \u001b[38;5;250m\u001b[39m\u001b[38;5;124;03m\"\"\"\u001b[39;00m\n\u001b[0;32m     94\u001b[0m \u001b[38;5;124;03m:param init_func:\u001b[39;00m\n\u001b[0;32m     95\u001b[0m \u001b[38;5;124;03m:type init_func: object\u001b[39;00m\n\u001b[1;32m   (...)\u001b[0m\n\u001b[0;32m    101\u001b[0m \u001b[38;5;124;03m:rtype: object\u001b[39;00m\n\u001b[0;32m    102\u001b[0m \u001b[38;5;124;03m\"\"\"\u001b[39;00m\n\u001b[0;32m    103\u001b[0m ExperimentSubmitRegistrar\u001b[38;5;241m.\u001b[39mregister_submit_function(\u001b[38;5;28mself\u001b[39m\u001b[38;5;241m.\u001b[39m\u001b[38;5;18m__class__\u001b[39m, submit_function)\n\u001b[1;32m--> 104\u001b[0m \u001b[38;5;28;01mreturn\u001b[39;00m \u001b[43minit_func\u001b[49m\u001b[43m(\u001b[49m\u001b[38;5;28;43mself\u001b[39;49m\u001b[43m,\u001b[49m\u001b[43m \u001b[49m\u001b[38;5;241;43m*\u001b[39;49m\u001b[43margs\u001b[49m\u001b[43m,\u001b[49m\u001b[43m \u001b[49m\u001b[38;5;241;43m*\u001b[39;49m\u001b[38;5;241;43m*\u001b[39;49m\u001b[43mkwargs\u001b[49m\u001b[43m)\u001b[49m\n",
      "File \u001b[1;32m~\\anaconda3\\envs\\azure\\lib\\site-packages\\azureml\\core\\script_run_config.py:438\u001b[0m, in \u001b[0;36mScriptRunConfig.__init__\u001b[1;34m(self, source_directory, script, arguments, run_config, _telemetry_values, compute_target, environment, distributed_job_config, resume_from, max_run_duration_seconds, command, docker_runtime_config)\u001b[0m\n\u001b[0;32m    435\u001b[0m             \u001b[38;5;28;01mraise\u001b[39;00m RunConfigurationException(\u001b[38;5;124m\"\u001b[39m\u001b[38;5;124m'\u001b[39m\u001b[38;5;124mdocker_runtime_config\u001b[39m\u001b[38;5;124m'\u001b[39m\u001b[38;5;124m must be a \u001b[39m\u001b[38;5;124m'\u001b[39m\u001b[38;5;124mDockerConfiguration\u001b[39m\u001b[38;5;124m'\u001b[39m\u001b[38;5;124m \u001b[39m\u001b[38;5;124m\"\u001b[39m\n\u001b[0;32m    436\u001b[0m                                             \u001b[38;5;124m\"\u001b[39m\u001b[38;5;124mobject.\u001b[39m\u001b[38;5;124m\"\u001b[39m)\n\u001b[0;32m    437\u001b[0m         \u001b[38;5;28mself\u001b[39m\u001b[38;5;241m.\u001b[39mrun_config\u001b[38;5;241m.\u001b[39mdocker \u001b[38;5;241m=\u001b[39m docker_runtime_config\n\u001b[1;32m--> 438\u001b[0m     \u001b[38;5;28;01melif\u001b[39;00m environment \u001b[38;5;129;01mand\u001b[39;00m \u001b[43menvironment\u001b[49m\u001b[38;5;241;43m.\u001b[39;49m\u001b[43mdocker\u001b[49m:\n\u001b[0;32m    439\u001b[0m         \u001b[38;5;66;03m# Docker configuration in run config is higher priority than docker settings\u001b[39;00m\n\u001b[0;32m    440\u001b[0m         \u001b[38;5;66;03m# in environment docker section, explicitly assign the setting values here\u001b[39;00m\n\u001b[0;32m    441\u001b[0m         \u001b[38;5;66;03m# to keep backward compatibility.\u001b[39;00m\n\u001b[0;32m    442\u001b[0m         \u001b[38;5;28mself\u001b[39m\u001b[38;5;241m.\u001b[39mrun_config\u001b[38;5;241m.\u001b[39mdocker \u001b[38;5;241m=\u001b[39m DockerConfiguration(\n\u001b[0;32m    443\u001b[0m             use_docker\u001b[38;5;241m=\u001b[39menvironment\u001b[38;5;241m.\u001b[39mdocker\u001b[38;5;241m.\u001b[39m_enabled,\n\u001b[0;32m    444\u001b[0m             shm_size\u001b[38;5;241m=\u001b[39menvironment\u001b[38;5;241m.\u001b[39mdocker\u001b[38;5;241m.\u001b[39m_shm_size,\n\u001b[0;32m    445\u001b[0m             shared_volumes\u001b[38;5;241m=\u001b[39menvironment\u001b[38;5;241m.\u001b[39mdocker\u001b[38;5;241m.\u001b[39m_shared_volumes,\n\u001b[0;32m    446\u001b[0m             arguments\u001b[38;5;241m=\u001b[39menvironment\u001b[38;5;241m.\u001b[39mdocker\u001b[38;5;241m.\u001b[39m_arguments)\n\u001b[0;32m    448\u001b[0m \u001b[38;5;28;01mif\u001b[39;00m resume_from:\n",
      "\u001b[1;31mAttributeError\u001b[0m: 'str' object has no attribute 'docker'"
     ]
    }
   ],
   "source": [
    "pythonconfig = ScriptRunConfig(source_directory=\"./\",script=\"Train.py\",compute_target= \"demo-cluster\",environment=\"virtualenv\")\n",
    "execution = exp.submit(pythonconfig)"
   ]
  },
  {
   "cell_type": "code",
   "execution_count": null,
   "id": "15a83d1a",
   "metadata": {},
   "outputs": [],
   "source": []
  },
  {
   "cell_type": "code",
   "execution_count": null,
   "id": "c3b30f6b",
   "metadata": {},
   "outputs": [],
   "source": []
  },
  {
   "cell_type": "code",
   "execution_count": null,
   "id": "2f2794e3",
   "metadata": {},
   "outputs": [],
   "source": []
  },
  {
   "cell_type": "code",
   "execution_count": null,
   "id": "a7660676",
   "metadata": {},
   "outputs": [],
   "source": []
  },
  {
   "cell_type": "code",
   "execution_count": null,
   "id": "28b04fb7",
   "metadata": {},
   "outputs": [],
   "source": []
  },
  {
   "cell_type": "code",
   "execution_count": null,
   "id": "1ba09253",
   "metadata": {},
   "outputs": [],
   "source": []
  },
  {
   "cell_type": "code",
   "execution_count": null,
   "id": "3593aa40",
   "metadata": {},
   "outputs": [],
   "source": []
  },
  {
   "cell_type": "code",
   "execution_count": null,
   "id": "45b71d98",
   "metadata": {},
   "outputs": [],
   "source": []
  }
 ],
 "metadata": {
  "kernelspec": {
   "display_name": "Python 3 (ipykernel)",
   "language": "python",
   "name": "python3"
  },
  "language_info": {
   "codemirror_mode": {
    "name": "ipython",
    "version": 3
   },
   "file_extension": ".py",
   "mimetype": "text/x-python",
   "name": "python",
   "nbconvert_exporter": "python",
   "pygments_lexer": "ipython3",
   "version": "3.8.5"
  }
 },
 "nbformat": 4,
 "nbformat_minor": 5
}
